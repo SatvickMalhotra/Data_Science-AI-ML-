{
  "nbformat": 4,
  "nbformat_minor": 0,
  "metadata": {
    "colab": {
      "provenance": []
    },
    "kernelspec": {
      "name": "python3",
      "display_name": "Python 3"
    },
    "language_info": {
      "name": "python"
    }
  },
  "cells": [
    {
      "cell_type": "code",
      "execution_count": null,
      "metadata": {
        "id": "MCdyR7rEgaUN"
      },
      "outputs": [],
      "source": [
        "import os\n",
        "import pandas as pd\n",
        "import json\n",
        "\n",
        "# Assuming your Excel file is named 'prescriptions.xlsx' and the sheet name is 'prescriptions'\n",
        "file_path = r'C:\\Users\\satvi\\OneDrive\\Desktop\\m-swasth\\mayank\\namra_run.xlsx'\n",
        "output_path = r'C:\\Users\\satvi\\OneDrive\\Desktop\\m-swasth\\mayank'  # Specify your output path here\n",
        "\n",
        "# Read the Excel file into a DataFrame\n",
        "df = pd.read_excel(file_path)\n",
        "\n",
        "# Function to extract prescription details from JSON string\n",
        "def extract_prescription_details(row):\n",
        "    prescription_data = json.loads(row['Prescrption json'])\n",
        "    medicines = prescription_data.get('pres', [])\n",
        "\n",
        "    # Initialize variables for each column\n",
        "    med_name, dur, mor, aft, eve, nig, total_qty, req_date, clinic = [], [], [], [], [], [], [], [], []\n",
        "\n",
        "    for medicine in medicines:\n",
        "        med_name.append(medicine.get('mName', ''))\n",
        "        dur.append(medicine.get('dur', ''))\n",
        "        mor.append(medicine.get('m', ''))\n",
        "        aft.append(medicine.get('a', ''))\n",
        "        eve.append(medicine.get('e', ''))\n",
        "        nig.append(medicine.get('n', ''))\n",
        "        bf = 1 if medicine.get('bf', False) else 0\n",
        "        af = 1 if medicine.get('af', False) else 0\n",
        "        total_qty.append(bf + af)\n",
        "        req_date.append(row['Date'])\n",
        "        clinic.append(row['Clinic Name'])\n",
        "\n",
        "    return pd.DataFrame({\n",
        "        'Medicine': med_name,\n",
        "        'DUR': dur,\n",
        "        'MOR': mor,\n",
        "        'AFTER': aft,\n",
        "        'EVE': eve,\n",
        "        'NIG': nig,\n",
        "        'SUM': total_qty,\n",
        "        'REQ': req_date,\n",
        "        'Date': req_date,\n",
        "        'Clinic Name': clinic\n",
        "    })\n",
        "\n",
        "# Apply the function to each row in the DataFrame\n",
        "result_df = pd.concat([extract_prescription_details(row) for _, row in df.iterrows()], ignore_index=True)\n",
        "\n",
        "# Save the resulting DataFrame to the specified path\n",
        "output_file_path = os.path.join(output_path, 'output_prescriptions_namraji.xlsx')\n",
        "result_df.to_excel(output_file_path, index=False)\n",
        "\n",
        "print(f\"Resulting DataFrame saved to: {output_file_path}\")\n"
      ]
    }
  ]
}