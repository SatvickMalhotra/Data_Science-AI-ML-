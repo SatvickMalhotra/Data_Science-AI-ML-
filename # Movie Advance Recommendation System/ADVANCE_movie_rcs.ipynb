{
  "nbformat": 4,
  "nbformat_minor": 0,
  "metadata": {
    "colab": {
      "provenance": []
    },
    "kernelspec": {
      "name": "python3",
      "display_name": "Python 3"
    },
    "language_info": {
      "name": "python"
    }
  },
  "cells": [
    {
      "cell_type": "code",
      "execution_count": 1,
      "metadata": {
        "id": "AMaz6e8PZ2f-"
      },
      "outputs": [],
      "source": [
        "import pandas as pd\n",
        "import numpy as np\n"
      ]
    },
    {
      "cell_type": "code",
      "source": [
        "df1=pd.read_csv('/kaggle/input/the-movies-dataset/credits.csv',low_memory=False)\n",
        "df2=pd.read_csv('/kaggle/input/the-movies-dataset/keywords.csv',low_memory=False)\n",
        "df3=pd.read_csv('/kaggle/input/the-movies-dataset/links.csv',low_memory=False)\n",
        "#df4=pd.read_csv('/kaggle/input/the-movies-dataset/links_small.csv',low_memory=False)\n",
        "df5=pd.read_csv('/kaggle/input/the-movies-dataset/movies_metadata.csv',low_memory=False)\n",
        "df6=pd.read_csv('/kaggle/input/the-movies-dataset/ratings.csv',low_memory=False)\n",
        "#df7=pd.read_csv('/kaggle/input/the-movies-dataset/ratings_small.csv',low_memory=False)\n"
      ],
      "metadata": {
        "id": "wsqJxIZvZ5wW"
      },
      "execution_count": null,
      "outputs": []
    },
    {
      "cell_type": "code",
      "source": [
        "# Remove rows with non-integer 'id'\n",
        "df5 = df5[df5['id'].str.isnumeric()]\n",
        "\n",
        "# Now convert the 'id' column to integers\n",
        "df5['id'] = df5['id'].astype('int64')\n"
      ],
      "metadata": {
        "id": "FTx3T-hvZ5yl"
      },
      "execution_count": null,
      "outputs": []
    },
    {
      "cell_type": "code",
      "source": [
        "# Ensure id columns are of the same type\n",
        "df1['id'] = df1['id'].astype(int)\n",
        "df2['id'] = df2['id'].astype(int)\n",
        "df5['id'] = df5['id'].astype(int)\n",
        "\n",
        "# Merge the dataframes\n",
        "merged_df = df1.merge(df2, on='id', how='left').merge(df5, on='id', how='left')\n"
      ],
      "metadata": {
        "id": "oDwAOfj-Z50-"
      },
      "execution_count": null,
      "outputs": []
    },
    {
      "cell_type": "code",
      "source": [
        "merged_df"
      ],
      "metadata": {
        "id": "R1vtMrTnZ53j"
      },
      "execution_count": null,
      "outputs": []
    },
    {
      "cell_type": "code",
      "source": [
        "import ast\n",
        "from sklearn.feature_extraction.text import TfidfVectorizer\n",
        "from sklearn.metrics.pairwise import cosine_similarity\n",
        "\n",
        "\n"
      ],
      "metadata": {
        "id": "AqI_yn2tZ56D"
      },
      "execution_count": null,
      "outputs": []
    },
    {
      "cell_type": "code",
      "source": [
        "\n",
        "# Function to join names from list of dictionaries\n",
        "def join_names(json_like_str):\n",
        "    try:\n",
        "        # Convert the string representation of list of dicts to actual list of dicts\n",
        "        list_dicts = ast.literal_eval(json_like_str)\n",
        "        return ' '.join([d['name'] for d in list_dicts if 'name' in d])\n",
        "    except:\n",
        "        # In case of any error, return an empty string\n",
        "        return ''\n",
        "\n",
        "# Apply join_names to 'genres' and 'keywords' in merged_df\n",
        "merged_df['genres'] = merged_df['genres'].apply(join_names)\n",
        "merged_df['keywords'] = merged_df['keywords'].apply(join_names)\n",
        "\n",
        "# Combine 'genres', 'keywords', and 'overview' into 'combined_features'\n",
        "merged_df['combined_features'] = merged_df['genres'] + \" \" + merged_df['keywords'] + \" \" + merged_df['overview']\n",
        "\n",
        "# Fill NaN values in 'combined_features'\n",
        "merged_df['combined_features'] = merged_df['combined_features'].fillna('')\n"
      ],
      "metadata": {
        "id": "iprF0CUUZ58V"
      },
      "execution_count": null,
      "outputs": []
    },
    {
      "cell_type": "code",
      "source": [
        "# Initialize and fit the TF-IDF Vectorizer\n",
        "tfidf = TfidfVectorizer(stop_words='english', max_features=10000, dtype=np.float32)\n",
        "tfidf_matrix = tfidf.fit_transform(merged_df['combined_features'])\n",
        "\n",
        "# Function to get movie recommendations\n",
        "def get_recommendations(title, description):\n",
        "    user_input = title + \" \" + description\n",
        "    user_input_tfidf = tfidf.transform([user_input])\n",
        "    cosine_sim = cosine_similarity(user_input_tfidf, tfidf_matrix).flatten()\n",
        "    sim_scores = sorted(list(enumerate(cosine_sim)), key=lambda x: x[1], reverse=True)[1:11]\n",
        "    movie_indices = [i[0] for i in sim_scores]\n",
        "    return merged_df['title'].iloc[movie_indices]\n"
      ],
      "metadata": {
        "id": "cLjQOQZqZ5-k"
      },
      "execution_count": null,
      "outputs": []
    },
    {
      "cell_type": "code",
      "source": [
        "# Example usage\n",
        "recommended_movies = get_recommendations('Toy Story', 'A story about friendship and adventure')\n",
        "print(recommended_movies)"
      ],
      "metadata": {
        "id": "4fT5eVCtZ6Aw"
      },
      "execution_count": null,
      "outputs": []
    },
    {
      "cell_type": "code",
      "source": [
        "#CREDITS KEYWORDS AND METADATA HAS BEEN USED TO MERGE AND MAKE A NEW COMBINED DATA_FRAME"
      ],
      "metadata": {
        "id": "zazGxFEBZ6DP"
      },
      "execution_count": null,
      "outputs": []
    },
    {
      "cell_type": "code",
      "source": [],
      "metadata": {
        "id": "b0CZwgIzZ6FY"
      },
      "execution_count": null,
      "outputs": []
    },
    {
      "cell_type": "code",
      "source": [],
      "metadata": {
        "id": "Y1k6yUfKZ6I1"
      },
      "execution_count": null,
      "outputs": []
    }
  ]
}