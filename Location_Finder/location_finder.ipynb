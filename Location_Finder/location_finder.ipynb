{
  "nbformat": 4,
  "nbformat_minor": 0,
  "metadata": {
    "colab": {
      "provenance": []
    },
    "kernelspec": {
      "name": "python3",
      "display_name": "Python 3"
    },
    "language_info": {
      "name": "python"
    }
  },
  "cells": [
    {
      "cell_type": "code",
      "source": [
        "from geopy.geocoders import Nominatim\n",
        "\n",
        "latitude = 25.5310302\n",
        "longitude = 87.032199\n",
        "\n",
        "geolocator = Nominatim(user_agent=\"location_finder\")\n",
        "location = geolocator.reverse(f\"{latitude}, {longitude}\")\n",
        "\n",
        "print(location.address)\n"
      ],
      "metadata": {
        "colab": {
          "base_uri": "https://localhost:8080/"
        },
        "id": "rQuVrlVzng1c",
        "outputId": "d7ffd114-a0a6-49b2-a603-5e21e24287c7"
      },
      "execution_count": null,
      "outputs": [
        {
          "output_type": "stream",
          "name": "stdout",
          "text": [
            "SH58, Chausa, Madhepura District, Bihar, 852213, India\n"
          ]
        }
      ]
    },
    {
      "cell_type": "code",
      "source": [
        "from geopy.geocoders import Nominatim\n",
        "\n",
        "coordinates = [\n",
        "(25.5310302, 87.032199),\n",
        "(25.8827136, 87.1147414),\n",
        "(25.9821996, 86.7939417),\n",
        "(24.8790702, 86.9266348),\n",
        "(24.0706938, 85.8192712),\n",
        "(24.3105739, 85.4208085)\n",
        "]\n",
        "#for full address\n",
        "\n",
        "geolocator = Nominatim(user_agent=\"location_finder\")\n",
        "\n",
        "for lat, lon in coordinates:\n",
        "    location = geolocator.reverse(f\"{lat}, {lon}\")\n",
        "    print(location.address)"
      ],
      "metadata": {
        "id": "RiVEDVKY-NbQ",
        "colab": {
          "base_uri": "https://localhost:8080/"
        },
        "outputId": "14a177ca-b79f-43b0-eec6-d6731e9a58d5"
      },
      "execution_count": null,
      "outputs": [
        {
          "output_type": "stream",
          "name": "stdout",
          "text": [
            "SH58, Chausa, Madhepura District, Bihar, 852213, India\n",
            "Banmankhi, Purnia District, Bihar, India\n",
            "Singheswar, Singheshwar, Madhepura District, Bihar, 852128, India\n",
            "Banka, Banka District, Bihar, India\n",
            "NH522, Pandedih, Bagodar, Giridih District, Jharkhand, 825322, India\n",
            "NH20, Konrā, Barhi, Hazaribagh District, Jharkhand, 825405, India\n"
          ]
        }
      ]
    },
    {
      "cell_type": "code",
      "source": [
        "from geopy.geocoders import Nominatim\n",
        "\n",
        "coordinates = [\n",
        "\n",
        "(26.8952758,83.4864332),\n",
        "(26.6996666,84.1857677),\n",
        "(24.1031662,88.2632907),\n",
        "(24.4748594,88.0639027)\n",
        "]\n",
        "#only for pin codes\n",
        "geolocator = Nominatim(user_agent=\"location_finder\")\n",
        "\n",
        "for lat, lon in coordinates:\n",
        "    try:\n",
        "        location = geolocator.reverse(f\"{lat}, {lon}\")\n",
        "        pincode = location.raw['address']['postcode']\n",
        "        print(pincode)\n",
        "    except KeyError:\n",
        "        print(\"Pin code not found for location.\")\n"
      ],
      "metadata": {
        "id": "WYtTZMCZ-9zf"
      },
      "execution_count": null,
      "outputs": []
    }
  ]
}