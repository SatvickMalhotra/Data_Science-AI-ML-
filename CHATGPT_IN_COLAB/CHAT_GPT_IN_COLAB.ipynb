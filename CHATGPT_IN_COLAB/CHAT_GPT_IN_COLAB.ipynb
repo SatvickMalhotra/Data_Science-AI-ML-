{
  "nbformat": 4,
  "nbformat_minor": 0,
  "metadata": {
    "colab": {
      "provenance": []
    },
    "kernelspec": {
      "name": "python3",
      "display_name": "Python 3"
    },
    "language_info": {
      "name": "python"
    }
  },
  "cells": [
    {
      "cell_type": "code",
      "execution_count": null,
      "metadata": {
        "id": "8gjKbEY8_w0-"
      },
      "outputs": [],
      "source": [
        "x"
      ]
    },
    {
      "cell_type": "code",
      "source": [
        "!pip install nltk\n",
        "!pip install openai\n"
      ],
      "metadata": {
        "id": "CqwMxjZiAONY"
      },
      "execution_count": null,
      "outputs": []
    },
    {
      "cell_type": "code",
      "source": [
        "import openai\n",
        "import nltk\n",
        "import textwrap\n",
        "\n",
        "# Set up your OpenAI API key (replace 'YOUR_API_KEY' with your actual API key)\n",
        "openai.api_key = \"YOUR_API_KEY\"\n",
        "\n",
        "# Function to generate a response for a given prompt with line breaks after each sentence\n",
        "def generate_response(prompt):\n",
        "    model_engine = \"text-davinci-003\"\n",
        "    completion = openai.Completion.create(\n",
        "        engine=model_engine,\n",
        "        prompt=prompt,\n",
        "        max_tokens=1024,\n",
        "        n=1,\n",
        "        stop='none',\n",
        "        temperature=0.5,\n",
        "    )\n",
        "    response_text = completion.choices[0].text\n",
        "    return response_text\n",
        "\n",
        "def run_chatbot():\n",
        "    print(\"Hey! How can I help?\")\n",
        "    while True:\n",
        "        user_input = input(\"You: \")\n",
        "        if user_input.lower() in ['exit', 'quit', 'stop']:\n",
        "            print(\"Exiting...\")\n",
        "            break\n",
        "        response = generate_response(user_input)\n",
        "\n",
        "        # Use nltk to tokenize the response into sentences and format with line breaks\n",
        "        sentences = nltk.sent_tokenize(response)\n",
        "        formatted_response = \"\\n\".join(sentences)\n",
        "        print(\"AI: \" + formatted_response)\n",
        "\n",
        "if __name__ == \"__main__\":\n",
        "    # Download the punkt tokenizer (needed for nltk.sent_tokenize) if not already downloaded\n",
        "    nltk.download('punkt')\n",
        "    run_chatbot()\n"
      ],
      "metadata": {
        "id": "WQ38XHQiAkXo"
      },
      "execution_count": null,
      "outputs": []
    },
    {
      "cell_type": "code",
      "source": [
        "import openai\n",
        "import nltk\n",
        "import textwrap\n",
        "\n",
        "# Set up your OpenAI API key (replace 'YOUR_API_KEY' with your actual API key)\n",
        "openai.api_key = \"\"\n",
        "\n",
        "# Global variable to store the chatbot response\n",
        "chatbot_response = \"\"\n",
        "\n",
        "# Function to generate a response for a given prompt with line breaks after each sentence\n",
        "def generate_response(prompt):\n",
        "    model_engine = \"text-davinci-003\"\n",
        "    completion = openai.Completion.create(\n",
        "        engine=model_engine,\n",
        "        prompt=prompt,\n",
        "        max_tokens=1024,\n",
        "        n=1,\n",
        "        stop='none',\n",
        "        temperature=0.5,\n",
        "    )\n",
        "    response_text = completion.choices[0].text\n",
        "    return response_text\n",
        "\n",
        "def chatbot():\n",
        "    global chatbot_response\n",
        "    print(\"Hey! How can I help?\")\n",
        "    while True:\n",
        "        user_input = input(\"You: \")\n",
        "        if user_input.lower() in ['exit', 'quit', 'stop']:\n",
        "            print(\"Exiting...\")\n",
        "            break\n",
        "        chatbot_response = generate_response(user_input)\n",
        "\n",
        "        # Use nltk to tokenize the response into sentences and format with line breaks\n",
        "        sentences = nltk.sent_tokenize(chatbot_response)\n",
        "        formatted_response = \"\\n\".join(sentences)\n",
        "        print(\"AI: \" + formatted_response)\n",
        "\n",
        "if __name__ == \"__main__\":\n",
        "    # Download the punkt tokenizer (needed for nltk.sent_tokenize) if not already downloaded\n",
        "    nltk.download('punkt')\n",
        "    chatbot()\n"
      ],
      "metadata": {
        "id": "w3qZvV8yBzFI"
      },
      "execution_count": null,
      "outputs": []
    },
    {
      "cell_type": "code",
      "source": [
        "chatbot()\n"
      ],
      "metadata": {
        "id": "v-AiHocRB_lQ"
      },
      "execution_count": null,
      "outputs": []
    }
  ]
}