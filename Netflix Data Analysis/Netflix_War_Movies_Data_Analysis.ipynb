{
 "cells": [
  {
   "cell_type": "markdown",
   "id": "940a5709",
   "metadata": {},
   "source": [
    "\n",
    "# Netflix War Movies Data Analysis\n",
    "\n",
    "This Jupyter notebook contains analysis on a dataset of Netflix war movies. The analyses focus on understanding the relationship between movie duration and user retention, and employing various statistical tests to validate findings.\n"
   ]
  },
  {
   "cell_type": "markdown",
   "id": "cc5abf6c",
   "metadata": {},
   "source": [
    "\n",
    "## Duration and Retention Analysis - Part 1\n",
    "\n",
    "The first part of our analysis involves a simple scatter plot to visualize the relationship between movie duration and user retention, followed by calculating the Pearson correlation coefficient.\n"
   ]
  },
  {
   "cell_type": "code",
   "execution_count": null,
   "id": "db132428",
   "metadata": {},
   "outputs": [],
   "source": [
    "\n",
    "import pandas as pd\n",
    "import matplotlib.pyplot as plt\n",
    "from scipy.stats import pearsonr\n",
    "\n",
    "# Load the dataset\n",
    "df = pd.read_csv('netflix_war_movies.csv')\n",
    "\n",
    "# Convert duration from string to minutes\n",
    "df['duration'] = df['duration'].str.replace(' min', '').astype(int)\n",
    "\n",
    "# Simple scatter plot\n",
    "plt.scatter(df['duration'], df['user_retention'])\n",
    "plt.xlabel('Duration (minutes)')\n",
    "plt.ylabel('User Retention (%)')\n",
    "plt.title('Duration vs User Retention for War Movies on Netflix')\n",
    "plt.show()\n",
    "\n",
    "# Pearson correlation coefficient\n",
    "correlation, p_value = pearsonr(df['duration'], df['user_retention'])\n",
    "print(f'Pearson correlation coefficient: {correlation}, P-value: {p_value}')\n"
   ]
  },
  {
   "cell_type": "markdown",
   "id": "5b68cbdf",
   "metadata": {},
   "source": [
    "\n",
    "## Testing Algorithms and Methods - Part 1\n",
    "\n",
    "Here, we perform an independent t-test to see if the mean user retention for movies longer than 2 hours differs significantly from those shorter than 2 hours.\n"
   ]
  },
  {
   "cell_type": "code",
   "execution_count": null,
   "id": "66955786",
   "metadata": {},
   "outputs": [],
   "source": [
    "\n",
    "from scipy.stats import ttest_ind\n",
    "\n",
    "# Splitting the dataset\n",
    "short_movies = df[df['duration'] < 120]\n",
    "long_movies = df[df['duration'] >= 120]\n",
    "\n",
    "# Independent t-test\n",
    "t_stat, p_val = ttest_ind(short_movies['user_retention'], long_movies['user_retention'])\n",
    "print(f'T-test statistic: {t_stat}, P-value: {p_val}')\n"
   ]
  }
 ],
 "metadata": {},
 "nbformat": 4,
 "nbformat_minor": 5
}
